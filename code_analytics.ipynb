{
 "cells": [
  {
   "cell_type": "code",
   "execution_count": 1,
   "metadata": {},
   "outputs": [],
   "source": [
    "import jsonlines\n",
    "import pandas as pd\n",
    "import numpy as np\n",
    "import seaborn as sns\n",
    "sns.set(style='darkgrid')"
   ]
  },
  {
   "cell_type": "markdown",
   "metadata": {},
   "source": [
    "##  Извлекаем собранную информацию по репозиториям"
   ]
  },
  {
   "cell_type": "code",
   "execution_count": 2,
   "metadata": {},
   "outputs": [],
   "source": [
    "collected_info = []\n",
    "with jsonlines.open('collected_info.jsonl') as reader:\n",
    "    for obj in reader:\n",
    "        collected_info.append(obj)\n"
   ]
  },
  {
   "cell_type": "code",
   "execution_count": 3,
   "metadata": {},
   "outputs": [
    {
     "data": {
      "text/html": [
       "<div>\n",
       "<style scoped>\n",
       "    .dataframe tbody tr th:only-of-type {\n",
       "        vertical-align: middle;\n",
       "    }\n",
       "\n",
       "    .dataframe tbody tr th {\n",
       "        vertical-align: top;\n",
       "    }\n",
       "\n",
       "    .dataframe thead th {\n",
       "        text-align: right;\n",
       "    }\n",
       "</style>\n",
       "<table border=\"1\" class=\"dataframe\">\n",
       "  <thead>\n",
       "    <tr style=\"text-align: right;\">\n",
       "      <th></th>\n",
       "      <th>rep_url</th>\n",
       "      <th>rep_size_on_disk</th>\n",
       "      <th>rep_total_files</th>\n",
       "      <th>rep_total_py_files</th>\n",
       "      <th>com_msg</th>\n",
       "      <th>com_msg_lang</th>\n",
       "      <th>com_num_files</th>\n",
       "      <th>com_hash</th>\n",
       "      <th>com_author</th>\n",
       "      <th>com_committer</th>\n",
       "      <th>...</th>\n",
       "      <th>com_num_py_files</th>\n",
       "      <th>com_py2add_lines</th>\n",
       "      <th>com_py2del_lines</th>\n",
       "      <th>com_py2paths</th>\n",
       "      <th>com_py2nloc</th>\n",
       "      <th>com_py2lines_after</th>\n",
       "      <th>com_py2lines_before</th>\n",
       "      <th>com_py2imports_before</th>\n",
       "      <th>com_py2imports_after</th>\n",
       "      <th>com_py2ch_type</th>\n",
       "    </tr>\n",
       "  </thead>\n",
       "  <tbody>\n",
       "    <tr>\n",
       "      <th>0</th>\n",
       "      <td>https://github.com/knadh/ml2en</td>\n",
       "      <td>143694</td>\n",
       "      <td>121</td>\n",
       "      <td>4</td>\n",
       "      <td>Fix README description, examples, and version</td>\n",
       "      <td>True</td>\n",
       "      <td>2</td>\n",
       "      <td>cf0c1b432def6b35af5115d34a85c0af6fd38cbe</td>\n",
       "      <td>Kailash Nadh</td>\n",
       "      <td>Kailash Nadh</td>\n",
       "      <td>...</td>\n",
       "      <td>1</td>\n",
       "      <td>{'1_setup.py': 1}</td>\n",
       "      <td>{'1_setup.py': 1}</td>\n",
       "      <td>{'1_setup.py': ['setup.py', 'setup.py']}</td>\n",
       "      <td>{'1_setup.py': 26}</td>\n",
       "      <td>{'1_setup.py': 44}</td>\n",
       "      <td>{'1_setup.py': 46}</td>\n",
       "      <td>{'1_setup.py': ['from ml2en import ml2en\r",
       "']}</td>\n",
       "      <td>{'1_setup.py': ['from ml2en import ml2en\r",
       "']}</td>\n",
       "      <td>{'1_setup.py': 'MODIFY'}</td>\n",
       "    </tr>\n",
       "    <tr>\n",
       "      <th>1</th>\n",
       "      <td>https://github.com/knadh/ml2en</td>\n",
       "      <td>143694</td>\n",
       "      <td>121</td>\n",
       "      <td>4</td>\n",
       "      <td>Adjust ml2en python scripts to pep8 indentatio...</td>\n",
       "      <td>False</td>\n",
       "      <td>2</td>\n",
       "      <td>1130192e3a60aafe50e069f353bb91cbccbc5913</td>\n",
       "      <td>Shreehari</td>\n",
       "      <td>Shreehari</td>\n",
       "      <td>...</td>\n",
       "      <td>2</td>\n",
       "      <td>{'0_ml2en.py': 204, '1_ml2en.py': 205}</td>\n",
       "      <td>{'0_ml2en.py': 121, '1_ml2en.py': 122}</td>\n",
       "      <td>{'0_ml2en.py': ['ml2en.py', 'ml2en.py'], '1_ml...</td>\n",
       "      <td>{'0_ml2en.py': 170, '1_ml2en.py': 172}</td>\n",
       "      <td>{'0_ml2en.py': 217, '1_ml2en.py': 217}</td>\n",
       "      <td>{'0_ml2en.py': 134, '1_ml2en.py': 134}</td>\n",
       "      <td>{'0_ml2en.py': ['import re'], '1_ml2en.py': ['...</td>\n",
       "      <td>{'0_ml2en.py': ['import re'], '1_ml2en.py': ['...</td>\n",
       "      <td>{'0_ml2en.py': 'MODIFY', '1_ml2en.py': 'MODIFY'}</td>\n",
       "    </tr>\n",
       "    <tr>\n",
       "      <th>2</th>\n",
       "      <td>https://github.com/knadh/ml2en</td>\n",
       "      <td>143694</td>\n",
       "      <td>121</td>\n",
       "      <td>4</td>\n",
       "      <td>Fixed comment typo</td>\n",
       "      <td>False</td>\n",
       "      <td>3</td>\n",
       "      <td>20172811d7ba6113115fdf464de56aab9aa82a6a</td>\n",
       "      <td>Kailash Nadh</td>\n",
       "      <td>Kailash Nadh</td>\n",
       "      <td>...</td>\n",
       "      <td>1</td>\n",
       "      <td>{'2_ml2en.py': 1}</td>\n",
       "      <td>{'2_ml2en.py': 1}</td>\n",
       "      <td>{'2_ml2en.py': ['ml2en.py', 'ml2en.py']}</td>\n",
       "      <td>{'2_ml2en.py': 87}</td>\n",
       "      <td>{'2_ml2en.py': 178}</td>\n",
       "      <td>{'2_ml2en.py': 178}</td>\n",
       "      <td>{'2_ml2en.py': []}</td>\n",
       "      <td>{'2_ml2en.py': []}</td>\n",
       "      <td>{'2_ml2en.py': 'MODIFY'}</td>\n",
       "    </tr>\n",
       "    <tr>\n",
       "      <th>3</th>\n",
       "      <td>https://github.com/knadh/ml2en</td>\n",
       "      <td>143694</td>\n",
       "      <td>121</td>\n",
       "      <td>4</td>\n",
       "      <td>Made transliterate() static</td>\n",
       "      <td>True</td>\n",
       "      <td>1</td>\n",
       "      <td>304ad8a713d6f13215082e4ae3fdb169a160a0e7</td>\n",
       "      <td>Kailash Nadh</td>\n",
       "      <td>Kailash Nadh</td>\n",
       "      <td>...</td>\n",
       "      <td>0</td>\n",
       "      <td>{}</td>\n",
       "      <td>{}</td>\n",
       "      <td>{}</td>\n",
       "      <td>{}</td>\n",
       "      <td>{}</td>\n",
       "      <td>{}</td>\n",
       "      <td>{}</td>\n",
       "      <td>{}</td>\n",
       "      <td>{}</td>\n",
       "    </tr>\n",
       "    <tr>\n",
       "      <th>4</th>\n",
       "      <td>https://github.com/knadh/ml2en</td>\n",
       "      <td>143694</td>\n",
       "      <td>121</td>\n",
       "      <td>4</td>\n",
       "      <td>Added new rule for ukaram+chandrakkala</td>\n",
       "      <td>True</td>\n",
       "      <td>4</td>\n",
       "      <td>a0762eff9e576707ca890e11b142d9daa913b192</td>\n",
       "      <td>Kailash Nadh</td>\n",
       "      <td>Kailash Nadh</td>\n",
       "      <td>...</td>\n",
       "      <td>1</td>\n",
       "      <td>{'2_ml2en.py': 1}</td>\n",
       "      <td>{'2_ml2en.py': 1}</td>\n",
       "      <td>{'2_ml2en.py': ['ml2en.py', 'ml2en.py']}</td>\n",
       "      <td>{'2_ml2en.py': 87}</td>\n",
       "      <td>{'2_ml2en.py': 178}</td>\n",
       "      <td>{'2_ml2en.py': 178}</td>\n",
       "      <td>{'2_ml2en.py': []}</td>\n",
       "      <td>{'2_ml2en.py': []}</td>\n",
       "      <td>{'2_ml2en.py': 'MODIFY'}</td>\n",
       "    </tr>\n",
       "  </tbody>\n",
       "</table>\n",
       "<p>5 rows × 31 columns</p>\n",
       "</div>"
      ],
      "text/plain": [
       "                          rep_url  rep_size_on_disk  rep_total_files  \\\n",
       "0  https://github.com/knadh/ml2en            143694              121   \n",
       "1  https://github.com/knadh/ml2en            143694              121   \n",
       "2  https://github.com/knadh/ml2en            143694              121   \n",
       "3  https://github.com/knadh/ml2en            143694              121   \n",
       "4  https://github.com/knadh/ml2en            143694              121   \n",
       "\n",
       "   rep_total_py_files                                            com_msg  \\\n",
       "0                   4      Fix README description, examples, and version   \n",
       "1                   4  Adjust ml2en python scripts to pep8 indentatio...   \n",
       "2                   4                                 Fixed comment typo   \n",
       "3                   4                        Made transliterate() static   \n",
       "4                   4             Added new rule for ukaram+chandrakkala   \n",
       "\n",
       "  com_msg_lang  com_num_files                                  com_hash  \\\n",
       "0         True              2  cf0c1b432def6b35af5115d34a85c0af6fd38cbe   \n",
       "1        False              2  1130192e3a60aafe50e069f353bb91cbccbc5913   \n",
       "2        False              3  20172811d7ba6113115fdf464de56aab9aa82a6a   \n",
       "3         True              1  304ad8a713d6f13215082e4ae3fdb169a160a0e7   \n",
       "4         True              4  a0762eff9e576707ca890e11b142d9daa913b192   \n",
       "\n",
       "     com_author com_committer  ... com_num_py_files  \\\n",
       "0  Kailash Nadh  Kailash Nadh  ...                1   \n",
       "1     Shreehari     Shreehari  ...                2   \n",
       "2  Kailash Nadh  Kailash Nadh  ...                1   \n",
       "3  Kailash Nadh  Kailash Nadh  ...                0   \n",
       "4  Kailash Nadh  Kailash Nadh  ...                1   \n",
       "\n",
       "                         com_py2add_lines  \\\n",
       "0                       {'1_setup.py': 1}   \n",
       "1  {'0_ml2en.py': 204, '1_ml2en.py': 205}   \n",
       "2                       {'2_ml2en.py': 1}   \n",
       "3                                      {}   \n",
       "4                       {'2_ml2en.py': 1}   \n",
       "\n",
       "                         com_py2del_lines  \\\n",
       "0                       {'1_setup.py': 1}   \n",
       "1  {'0_ml2en.py': 121, '1_ml2en.py': 122}   \n",
       "2                       {'2_ml2en.py': 1}   \n",
       "3                                      {}   \n",
       "4                       {'2_ml2en.py': 1}   \n",
       "\n",
       "                                        com_py2paths  \\\n",
       "0           {'1_setup.py': ['setup.py', 'setup.py']}   \n",
       "1  {'0_ml2en.py': ['ml2en.py', 'ml2en.py'], '1_ml...   \n",
       "2           {'2_ml2en.py': ['ml2en.py', 'ml2en.py']}   \n",
       "3                                                 {}   \n",
       "4           {'2_ml2en.py': ['ml2en.py', 'ml2en.py']}   \n",
       "\n",
       "                              com_py2nloc  \\\n",
       "0                      {'1_setup.py': 26}   \n",
       "1  {'0_ml2en.py': 170, '1_ml2en.py': 172}   \n",
       "2                      {'2_ml2en.py': 87}   \n",
       "3                                      {}   \n",
       "4                      {'2_ml2en.py': 87}   \n",
       "\n",
       "                       com_py2lines_after  \\\n",
       "0                      {'1_setup.py': 44}   \n",
       "1  {'0_ml2en.py': 217, '1_ml2en.py': 217}   \n",
       "2                     {'2_ml2en.py': 178}   \n",
       "3                                      {}   \n",
       "4                     {'2_ml2en.py': 178}   \n",
       "\n",
       "                      com_py2lines_before  \\\n",
       "0                      {'1_setup.py': 46}   \n",
       "1  {'0_ml2en.py': 134, '1_ml2en.py': 134}   \n",
       "2                     {'2_ml2en.py': 178}   \n",
       "3                                      {}   \n",
       "4                     {'2_ml2en.py': 178}   \n",
       "\n",
       "                               com_py2imports_before  \\\n",
       "0       {'1_setup.py': ['from ml2en import ml2en\n",
       "']}   \n",
       "1  {'0_ml2en.py': ['import re'], '1_ml2en.py': ['...   \n",
       "2                                 {'2_ml2en.py': []}   \n",
       "3                                                 {}   \n",
       "4                                 {'2_ml2en.py': []}   \n",
       "\n",
       "                                com_py2imports_after  \\\n",
       "0       {'1_setup.py': ['from ml2en import ml2en\n",
       "']}   \n",
       "1  {'0_ml2en.py': ['import re'], '1_ml2en.py': ['...   \n",
       "2                                 {'2_ml2en.py': []}   \n",
       "3                                                 {}   \n",
       "4                                 {'2_ml2en.py': []}   \n",
       "\n",
       "                                     com_py2ch_type  \n",
       "0                          {'1_setup.py': 'MODIFY'}  \n",
       "1  {'0_ml2en.py': 'MODIFY', '1_ml2en.py': 'MODIFY'}  \n",
       "2                          {'2_ml2en.py': 'MODIFY'}  \n",
       "3                                                {}  \n",
       "4                          {'2_ml2en.py': 'MODIFY'}  \n",
       "\n",
       "[5 rows x 31 columns]"
      ]
     },
     "execution_count": 3,
     "metadata": {},
     "output_type": "execute_result"
    }
   ],
   "source": [
    "df = pd.DataFrame.from_dict(collected_info)\n",
    "df.head()"
   ]
  },
  {
   "cell_type": "code",
   "execution_count": 4,
   "metadata": {},
   "outputs": [],
   "source": [
    "df_grouped = df.groupby(by='rep_url')[['rep_size_on_disk', 'rep_total_files', 'rep_total_py_files']].mean()"
   ]
  },
  {
   "cell_type": "code",
   "execution_count": 5,
   "metadata": {},
   "outputs": [],
   "source": [
    "df_grouped = df_grouped.reset_index()"
   ]
  },
  {
   "cell_type": "code",
   "execution_count": 7,
   "metadata": {},
   "outputs": [],
   "source": [
    "df_grouped = df_grouped.loc[df_grouped['rep_total_files'] < 500]"
   ]
  },
  {
   "cell_type": "code",
   "execution_count": 8,
   "metadata": {},
   "outputs": [
    {
     "data": {
      "text/plain": [
       "<seaborn.axisgrid.FacetGrid at 0x7fb18d03ef50>"
      ]
     },
     "execution_count": 8,
     "metadata": {},
     "output_type": "execute_result"
    },
    {
     "data": {
      "image/png": "[encoded data removed]",
      "text/plain": [
       "<Figure size 360x360 with 1 Axes>"
      ]
     },
     "metadata": {
      "needs_background": "light"
     },
     "output_type": "display_data"
    }
   ],
   "source": [
    "sns.displot(df_grouped, x='rep_total_files')"
   ]
  },
  {
   "cell_type": "code",
   "execution_count": 10,
   "metadata": {},
   "outputs": [],
   "source": [
    "df_grouped['py_perc'] = df_grouped['rep_total_py_files'] / df_grouped['rep_total_files']"
   ]
  },
  {
   "cell_type": "code",
   "execution_count": 11,
   "metadata": {},
   "outputs": [
    {
     "data": {
      "text/plain": [
       "<seaborn.axisgrid.FacetGrid at 0x7fb18e567b80>"
      ]
     },
     "execution_count": 11,
     "metadata": {},
     "output_type": "execute_result"
    },
    {
     "data": {
      "image/png": "[encoded data removed]",
      "text/plain": [
       "<Figure size 360x360 with 1 Axes>"
      ]
     },
     "metadata": {
      "needs_background": "light"
     },
     "output_type": "display_data"
    }
   ],
   "source": [
    "sns.displot(df_grouped, x='py_perc')"
   ]
  },
  {
   "cell_type": "markdown",
   "metadata": {},
   "source": [
    "## Основная информация"
   ]
  },
  {
   "cell_type": "code",
   "execution_count": 13,
   "metadata": {},
   "outputs": [
    {
     "name": "stdout",
     "output_type": "stream",
     "text": [
      "Num of downloaded revisions: 145392\n",
      "Num of repos: 9409\n"
     ]
    }
   ],
   "source": [
    "print('Num of downloaded revisions:', df.shape[0])\n",
    "print('Num of repos:', len(df.rep_url.unique()))"
   ]
  },
  {
   "cell_type": "code",
   "execution_count": 15,
   "metadata": {},
   "outputs": [
    {
     "name": "stdout",
     "output_type": "stream",
     "text": [
      "Mean modified files per commit: 9.435367833168263 +- 223.3064453438519\n",
      "Mean modified files per commit (2): 9.435897435897436 +- 223.30647950052884\n"
     ]
    }
   ],
   "source": [
    "print('Mean modified files per commit:', df.com_num_files.mean(), '+-', df.com_num_files.std())\n",
    "print('Mean modified files per commit (2):', df.com_len_mod_files.mean(), '+-', df.com_len_mod_files.std())"
   ]
  },
  {
   "cell_type": "code",
   "execution_count": 16,
   "metadata": {},
   "outputs": [
    {
     "name": "stdout",
     "output_type": "stream",
     "text": [
      "Mean PY files per commit: 3.4638425773082426 +- 60.46061749201764\n"
     ]
    }
   ],
   "source": [
    "print('Mean PY files per commit:', df.com_num_py_files.mean(), '+-', df.com_num_py_files.std())"
   ]
  },
  {
   "cell_type": "code",
   "execution_count": 18,
   "metadata": {},
   "outputs": [
    {
     "name": "stdout",
     "output_type": "stream",
     "text": [
      "Mean modified lines per commit 4532.052334378783 +- 201968.29169298132\n",
      "Mean deletions lines per commit 714.5677891493342 +- 40688.65590009832\n",
      "Mean insertions lines per commit 3817.4845452294485 +- 196171.00107930604\n"
     ]
    }
   ],
   "source": [
    "print('Mean modified lines per commit', df.com_lines.mean(), '+-', df.com_lines.std())\n",
    "print('Mean deletions lines per commit', df.com_deletions.mean(), '+-', df.com_deletions.std())\n",
    "print('Mean insertions lines per commit', df.com_insertions.mean(), '+-', df.com_insertions.std())"
   ]
  },
  {
   "cell_type": "code",
   "execution_count": 20,
   "metadata": {},
   "outputs": [
    {
     "name": "stdout",
     "output_type": "stream",
     "text": [
      "Only PY file per100: 0.4751430615164521\n"
     ]
    }
   ],
   "source": [
    "print('Only PY file per100:', df[(df.com_num_py_files==1) & (df.com_num_files==1)].shape[0] / df.shape[0])"
   ]
  },
  {
   "cell_type": "markdown",
   "metadata": {},
   "source": [
    "## Ревизии с единственным измененным файлом"
   ]
  },
  {
   "cell_type": "code",
   "execution_count": 25,
   "metadata": {},
   "outputs": [],
   "source": [
    "df_good = df[(df.com_num_py_files==1) & (df.com_num_files==1) & (df.com_msg.str.len()>0) & (df.rep_lang==True)]\n",
    "df_good = df_good[(df_good.com_lines<1000)]"
   ]
  },
  {
   "cell_type": "code",
   "execution_count": 26,
   "metadata": {},
   "outputs": [
    {
     "name": "stdout",
     "output_type": "stream",
     "text": [
      "Mean modified lines per commit 30.653203841185352 +- 66.9369002696711\n",
      "Mean deletions lines per commit 8.755957105725981 +- 29.341417959900184\n",
      "Mean insertions lines per commit 21.89724673545937 +- 52.55358838099476\n"
     ]
    }
   ],
   "source": [
    "print('Mean modified lines per commit', df_good.com_lines.mean(), '+-', df_good.com_lines.std())\n",
    "print('Mean deletions lines per commit', df_good.com_deletions.mean(), '+-', df_good.com_deletions.std())\n",
    "print('Mean insertions lines per commit', df_good.com_insertions.mean(), '+-', df_good.com_insertions.std())"
   ]
  },
  {
   "cell_type": "code",
   "execution_count": 29,
   "metadata": {},
   "outputs": [],
   "source": [
    "df_good = df[(df.com_num_py_files==1) & (df.com_num_files==1) & (df.com_msg.str.len()>0) & (df.rep_lang==True)]\n",
    "df_good = df_good[(df_good.com_lines<50)]"
   ]
  },
  {
   "cell_type": "code",
   "execution_count": 30,
   "metadata": {},
   "outputs": [
    {
     "data": {
      "text/plain": [
       "<seaborn.axisgrid.FacetGrid at 0x7fb12e0dec80>"
      ]
     },
     "execution_count": 30,
     "metadata": {},
     "output_type": "execute_result"
    },
    {
     "data": {
      "image/png": "[encoded data removed]",
      "text/plain": [
       "<Figure size 360x360 with 1 Axes>"
      ]
     },
     "metadata": {
      "needs_background": "light"
     },
     "output_type": "display_data"
    }
   ],
   "source": [
    "sns.displot(df_good, x='com_lines')"
   ]
  },
  {
   "cell_type": "code",
   "execution_count": 31,
   "metadata": {},
   "outputs": [
    {
     "data": {
      "text/plain": [
       "(54086, 33)"
      ]
     },
     "execution_count": 31,
     "metadata": {},
     "output_type": "execute_result"
    }
   ],
   "source": [
    "df_good.shape"
   ]
  },
  {
   "cell_type": "markdown",
   "metadata": {},
   "source": [
    "## Смотрим на импортируемые библиотеки"
   ]
  },
  {
   "cell_type": "code",
   "execution_count": 53,
   "metadata": {},
   "outputs": [],
   "source": [
    "def extract_libname(import_line): # Not works with relative pathes\n",
    "    imp_ = import_line[:]\n",
    "    import_line = import_line.strip()\n",
    "    if import_line[:6] == 'import':\n",
    "        import_line = import_line[7:].strip()\n",
    "        as_idx = import_line.find(' as ')\n",
    "        if as_idx >= 0:\n",
    "            import_line = import_line[:as_idx].strip()\n",
    "    else:\n",
    "        import_line = import_line[4:].strip()\n",
    "        import_line = import_line.split(' import ')[0].strip()\n",
    "    if import_line.split('.')[0].strip() == '':\n",
    "        # print(imp_)\n",
    "        pass\n",
    "    return import_line.split('.')[0].strip()"
   ]
  },
  {
   "cell_type": "code",
   "execution_count": 54,
   "metadata": {},
   "outputs": [
    {
     "data": {
      "text/plain": [
       "['re', 'numpy', 'os', 'sys', 'pandas', 'tqdm', 'math', 'sklearn']"
      ]
     },
     "execution_count": 54,
     "metadata": {},
     "output_type": "execute_result"
    }
   ],
   "source": [
    "a = ['import re',\n",
    " 'import numpy as np',\n",
    " 'import os',\n",
    " 'import sys',\n",
    " 'import pandas as pd',\n",
    " 'from tqdm import tqdm',\n",
    " 'from math import log',\n",
    " 'from sklearn.metrics import r2_score']\n",
    "\n",
    "[extract_libname(b) for b in a]"
   ]
  },
  {
   "cell_type": "code",
   "execution_count": 55,
   "metadata": {},
   "outputs": [],
   "source": [
    "from collections import Counter\n",
    "\n",
    "libs_cnt = Counter()\n",
    "for row_idx, row in df_good.iterrows():\n",
    "    for k, v in row['com_py2imports_before'].items():\n",
    "        for imp_line in v:\n",
    "            libs_cnt[extract_libname(imp_line)] += 1"
   ]
  },
  {
   "cell_type": "code",
   "execution_count": 56,
   "metadata": {},
   "outputs": [
    {
     "data": {
      "text/plain": [
       "[('django', 18254),\n",
       " ('os', 15713),\n",
       " ('sys', 12371),\n",
       " ('time', 8161),\n",
       " ('re', 7651),\n",
       " ('datetime', 5775),\n",
       " ('logging', 5016),\n",
       " ('json', 3633),\n",
       " ('urllib', 3471),\n",
       " ('subprocess', 3274),\n",
       " ('numpy', 3059),\n",
       " ('google', 2782),\n",
       " ('', 2761),\n",
       " ('setuptools', 2602),\n",
       " ('urllib2', 2570),\n",
       " ('twisted', 2556),\n",
       " ('random', 2509),\n",
       " ('optparse', 2436),\n",
       " ('__future__', 2163),\n",
       " ('socket', 2153),\n",
       " ('collections', 2119),\n",
       " ('threading', 1925),\n",
       " ('argparse', 1829),\n",
       " ('math', 1686),\n",
       " ('hashlib', 1679),\n",
       " ('urlparse', 1610),\n",
       " ('xml', 1552),\n",
       " ('struct', 1446),\n",
       " ('shutil', 1436),\n",
       " ('tornado', 1397)]"
      ]
     },
     "execution_count": 56,
     "metadata": {},
     "output_type": "execute_result"
    }
   ],
   "source": [
    "libs_cnt.most_common(30)"
   ]
  },
  {
   "cell_type": "code",
   "execution_count": null,
   "metadata": {},
   "outputs": [],
   "source": []
  }
 ],
 "metadata": {
  "kernelspec": {
   "display_name": "interactive_lm",
   "language": "python",
   "name": "interactive_lm"
  },
  "language_info": {
   "codemirror_mode": {
    "name": "ipython",
    "version": 3
   },
   "file_extension": ".py",
   "mimetype": "text/x-python",
   "name": "python",
   "nbconvert_exporter": "python",
   "pygments_lexer": "ipython3",
   "version": "3.10.4"
  }
 },
 "nbformat": 4,
 "nbformat_minor": 5
}
