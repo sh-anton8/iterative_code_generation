{
 "cells": [
  {
   "cell_type": "code",
   "execution_count": 1,
   "metadata": {},
   "outputs": [],
   "source": [
    "import sys\n",
    "sys.path.append(\"../tools\")\n",
    "\n",
    "from wikiparser_utils import WikiXMLDump, WikiPage\n",
    "import os"
   ]
  },
  {
   "cell_type": "code",
   "execution_count": 2,
   "metadata": {},
   "outputs": [],
   "source": [
    "dump = WikiXMLDump('../data/history.xml')"
   ]
  },
  {
   "cell_type": "code",
   "execution_count": 3,
   "metadata": {},
   "outputs": [
    {
     "name": "stderr",
     "output_type": "stream",
     "text": [
      "29806it [57:49,  8.59it/s] \n"
     ]
    }
   ],
   "source": [
    "dump.get_save_on_disk('../data/pages')"
   ]
  },
  {
   "cell_type": "code",
   "execution_count": 3,
   "metadata": {},
   "outputs": [
    {
     "name": "stdout",
     "output_type": "stream",
     "text": [
      "Wind turbine_20541773\n"
     ]
    }
   ],
   "source": [
    "dirs = sorted(os.listdir('../data/pages'))\n",
    "for dir_ in dirs:\n",
    "    if 'wind turbine' in dir_.lower():\n",
    "        print(dir_)"
   ]
  },
  {
   "cell_type": "code",
   "execution_count": 4,
   "metadata": {},
   "outputs": [],
   "source": [
    "page_revisions = WikiPage().load_revisions(f\"../data/pages/Wind turbine_20541773\")\n",
    "rev_list = list(page_revisions)"
   ]
  },
  {
   "cell_type": "code",
   "execution_count": 5,
   "metadata": {
    "scrolled": true
   },
   "outputs": [
    {
     "data": {
      "text/plain": [
       "[1091089025, 1091253096, 1094598488, 1095477036, 1095572402]"
      ]
     },
     "execution_count": 5,
     "metadata": {},
     "output_type": "execute_result"
    }
   ],
   "source": [
    "rev_list[-5:]"
   ]
  },
  {
   "cell_type": "code",
   "execution_count": 6,
   "metadata": {
    "scrolled": false
   },
   "outputs": [],
   "source": [
    "last_revision = page_revisions[rev_list[-1]]\n",
    "prelast_revision = page_revisions[rev_list[-3]]\n",
    "lr_links = last_revision.get_links()\n",
    "plr_links = prelast_revision.get_links()"
   ]
  },
  {
   "cell_type": "code",
   "execution_count": 7,
   "metadata": {},
   "outputs": [],
   "source": [
    "def links_diff(links_old, links_new):\n",
    "    set_old = set(links_old)\n",
    "    set_new = set(links_new)\n",
    "    set_diff = set_new - set_old\n",
    "    return list(set_diff)"
   ]
  },
  {
   "cell_type": "code",
   "execution_count": 8,
   "metadata": {},
   "outputs": [
    {
     "data": {
      "text/plain": [
       "[('Reliability, Availability and Maintenance aspects of large-scale offshore wind farms ',\n",
       "  'https://web.archive.org/web/20160412165430/https://www.ecn.nl/fileadmin/ecn/units/wind/docs/dowec/2001-MAREC-RAMS.pdf'),\n",
       " (\"Fact check: About those 'abandoned' turbines … \",\n",
       "  'https://web.archive.org/web/20160608233328/http://www.aweablog.org/fact-check-about-those-abandoned-turbines'),\n",
       " ('Turbine Size ',\n",
       "  'https://web.archive.org/web/20171005090312/http://windmonitor.iwes.fraunhofer.de/windmonitor_en/3_Onshore/2_technik/4_anlagengroesse/'),\n",
       " ('',\n",
       "  'https://web.archive.org/web/20071225091836/http://home.swipnet.se/islam/articles/HistoryofSciences.htm')]"
      ]
     },
     "execution_count": 8,
     "metadata": {},
     "output_type": "execute_result"
    }
   ],
   "source": [
    "links_diff(plr_links, lr_links)"
   ]
  },
  {
   "cell_type": "code",
   "execution_count": 9,
   "metadata": {},
   "outputs": [],
   "source": [
    "def text_diff(old_rev, new_rev):\n",
    "    old_sec = old_rev.get_clean_sections()\n",
    "    new_sec = new_rev.get_clean_sections()\n",
    "    set_old = set(old_sec)\n",
    "    set_new = set(new_sec)\n",
    "    set_diff = set_new - set_old\n",
    "    return list(set_diff)"
   ]
  },
  {
   "cell_type": "code",
   "execution_count": 10,
   "metadata": {
    "scrolled": false
   },
   "outputs": [
    {
     "data": {
      "text/plain": [
       "[(' Non-blade materials ',\n",
       "  '=== Non-blade materials ===\\nWind turbine parts other than the rotor blades (including the rotor hub, gearbox, frame, and tower) are largely made of steel. Smaller turbines (as well as megawatt-scale Enercon turbines) have begun using aluminum alloys for these components to make turbines lighter and more efficient. This trend may grow if fatigue and strength properties can be improved. \\nPre-stressed concrete has been increasingly used for the material of the tower, but still requires much reinforcing steel to meet the strength requirement of the turbine. Additionally, step-up gearboxes are being increasingly replaced with variable speed generators, which requires magnetic materials. In particular, this would require a greater supply of the rare earth metal neodymium.\\n\\nModern turbines use a couple of tons of copper for generators, cables and such.Frost and Sullivan, 2009, cited in Wind Generator Technology, by Eclareon S.L., Madrid, May 2012; www.eclareon.com; Available at Leonardo Energy – Ask an Expert;  , global production of wind turbines use  of copper per year.\\n\\n'),\n",
       " (' Technology ',\n",
       "  '== Technology ==\\nGenerally, efficiency increases along with turbine blade lengths. The blades must be stiff, strong, durable, light and resistant to fatigue. Materials with these properties include composites such as polyester and epoxy, while glass fiber and carbon fiber have been used for the reinforcing. Construction may involve manual layup or injection molding. Retrofitting existing turbines with larger blades reduces the task and risks of redesign.thumb|400px|Development in size and power of wind turbines, 1990–2016\\nAs of 2021, the longest blade was , producing 15\\xa0MW with a maximum noise level of 118 dB(A). Blades need to function over a 100 million load cycles over a period of 20–25 years.\\n\\n=== Blade materials ===\\nMaterials commonly used in wind turbine blades are described below.\\n\\n==== Glass and carbon fibers ====\\nThe stiffness of composites is determined by the stiffness of fibers and their volume content. Typically, E-glass fibers are used as main reinforcement in the composites. Typically, the glass/epoxy composites for wind turbine blades contain up to 75% glass by weight. This increases the stiffness, tensile and compression strength. A promising composite material is glass fiber with modified compositions like S-glass, R-glass etc. Other glass fibers developed by Owens Corning are ECRGLAS, Advantex and WindStrand.\\n\\nCarbon fiber has more tensile strength, higher stiffness and lower density than glass fiber. An ideal candidate for these properties is the spar cap, a structural element of a blade which experiences high tensile loading. A  glass fiber blade could weigh up to , while using carbon fiber in the spar saves 20% to 30% weight, about . However, because carbon fiber is ten times more expensive, glass fiber is still dominant.\\n\\n==== Hybrid reinforcements ====\\nInstead of making wind turbine blade reinforcements from pure glass or pure carbon, hybrid designs trade weight for cost. For example, for an  blade, a full replacement by carbon fiber would save 80% of weight but increase costs by 150%, while a 30% replacement would save 50% of weight and increase costs by 90%. Hybrid reinforcement materials include E-glass/carbon, E-glass/aramid. The current longest blade by LM Wind Power is made of carbon/glass hybrid composites. More research is needed about the optimal composition of materials \\n\\n==== Nano-engineered polymers and composites ====\\nAdditions of small amount (0.5 weight %) of nanoreinforcement (carbon nanotubes or nanoclay) in the polymer matrix of composites, fiber sizing or interlaminar layers can improve fatigue resistance, shear or compressive strength, and fracture toughness of the composites by 30% to 80%. Research has also shown that incorporating small amounts of carbon nanotubes (CNT) can increase the lifetime up to 1500%.\\n\\n=== Costs ===\\n, operating a wind turbine may cost around $1 million per megawatt of energy produced.\\n\\nFor the wind turbine blades, while the material cost is much higher for hybrid glass/carbon fiber blades than all-glass fiber blades, labor costs can be lower.  Using carbon fiber allows simpler designs that use less raw material.  The chief manufacturing process in blade fabrication is the layering of plies.  Thinner blades allow reducing the number of layers and so the labor, and in some cases, equate to the cost of labor for glass fiber blades.\\n\\n=== Non-blade materials ===\\nWind turbine parts other than the rotor blades (including the rotor hub, gearbox, frame, and tower) are largely made of steel. Smaller turbines (as well as megawatt-scale Enercon turbines) have begun using aluminum alloys for these components to make turbines lighter and more efficient. This trend may grow if fatigue and strength properties can be improved. \\nPre-stressed concrete has been increasingly used for the material of the tower, but still requires much reinforcing steel to meet the strength requirement of the turbine. Additionally, step-up gearboxes are being increasingly replaced with variable speed generators, which requires magnetic materials. In particular, this would require a greater supply of the rare earth metal neodymium.\\n\\nModern turbines use a couple of tons of copper for generators, cables and such.Frost and Sullivan, 2009, cited in Wind Generator Technology, by Eclareon S.L., Madrid, May 2012; www.eclareon.com; Available at Leonardo Energy – Ask an Expert;  , global production of wind turbines use  of copper per year.\\n\\n=== Material supply ===\\n\\nA study of the material consumption trends and requirements for wind energy in Europe found that bigger turbines have a higher consumption of precious metals but lower material input per kW generated. The current material consumption and stock was compared to input materials for various onshore system sizes. In all EU countries the estimates for 2020 doubled the values consumed in 2009. These countries would need to expand their resources to meet the estimated demand for 2020. For example, currently the EU has 3% of world supply of fluorspar and it requires 14% by 2020. Globally, the main exporting countries are South Africa, Mexico and China.  This is similar with other critical and valuable materials required for energy systems such as magnesium, silver and indium. The levels of recycling of these materials are very low and focusing on that could alleviate supply. Because most of these valuable materials are also used in other emerging technologies, like light emitting diodes (LEDs), photo voltaics (PVs) and liquid crystal displays (LCDs), their demand is expected to grow.\\n\\nA study by the United States Geological Survey estimated resources required to fulfill the US commitment to supplying 20% of its electricity from wind power by 2030. It did not consider requirements for small turbines or offshore turbines because those were not common in 2008 when the study was done. Common materials such as cast iron, steel and concrete would increase by 2%–3% compared to 2008. Between 110,000 and 115,000 metric tons of fiber glass would be required per year, a 14% increase. Rare metal use would not increase much compared to available supply, however rare metals that are also used for other technologies such as batteries which are increasing its global demand need to be taken into account. Land required would be 50,000 square kilometers onshore and 11,000 offshore. This would not be a problem in the US due to its vast area and because the same land can be used for farming. A greater challenge would be the variability and transmission to areas of high demand.Wilburn, D.R.—Wind Energy in the United States and Materials Required for the Land-Based Turbine Industry From 2010 Through 2030—SIR 2011–5036\\n\\nPermanent magnets for wind turbine generators contain rare metals such as neodymium (Nd), praseodymium (Pr), Terbium (Tb) and dysprosium (Dy). Systems that use magnetic direct drive turbines require greater amounts of rare metals. Therefore, an increase in wind turbine manufacture would increase the demand for these resources. By 2035, the demand for Nd is estimated to increase by 4,000 to 18,000 tons and for Dy by 200 to 1200 tons. These values are a quarter to half of current production. However, these estimates are very uncertain because technologies are developing rapidly.\\n\\nReliance on rare earth minerals for components has risked expense and price volatility as China has been main producer of rare earth minerals (96% in 2009) and was reducing its export quotas. However, in recent years other producers have increased production and China has increased export quotas, leading to a higher supply and lower cost, and a greater viability of large scale use of variable-speed generators.\\n\\nGlass fiber is the most common material for reinforcement.  Its demand has grown due to growth in construction, transportation and wind turbines. Its global market might reach US$17.4 billion by 2024, compared to US$8.5 billion in 2014. In 2014, Asia Pacific produced more than 45% of the market; now China is the largest producer. The industry receives subsidies from the Chinese government allowing it to export cheaper to the US and Europe. However, price wars have led to anti-dumping measures such as tariffs on Chinese glass fiber.\\n\\n'),\n",
       " (' History ',\n",
       "  '== History ==\\n\\n\\n\\n\\nThe windwheel of Hero of Alexandria (10 AD – 70 CE) marks one of the first recorded instances of wind powering a machine in history. However, the first known practical wind power plants were built in Sistan, an Eastern province of Persia (now Iran), from the 7th century. These \"Panemone\" were vertical axle windmills, which had long vertical drive shafts with rectangular blades. Made of six to twelve sails covered in reed matting or cloth material, these windmills were used to grind grain or draw up water, and were used in the gristmilling and sugarcane industries.Donald Routledge Hill, \"Mechanical Engineering in the Medieval Near East\", Scientific American, May 1991, pp. 64–69. (cf. Donald Routledge Hill, Mechanical Engineering )\\n\\nWind power first appeared in Europe during the Middle Ages. The first historical records of their use in England date to the 11th or 12th centuries, there are reports of German crusaders taking their windmill-making skills to Syria around 1190. By the 14th century, Dutch windmills were in use to drain areas of the Rhine delta. Advanced wind turbines were described by Croatian inventor Fausto Veranzio in his book \"Machinae Novae\" (1595), he described vertical axis wind turbines with curved or V-shaped blades.\\n\\nThe first electricity-generating wind turbine was a battery charging machine installed in July 1887 by Scottish academic James Blyth to light his holiday home in Marykirk, Scotland. Some months later, American inventor Charles F. Brush was able to build the first automatically operated wind turbine after consulting local University professors and his colleagues Jacob S. Gibbs and Brinsley Coleberd and successfully getting the blueprints peer-reviewed for electricity production. Although Blyth\\'s turbine was considered uneconomical in the United Kingdom, electricity generation by wind turbines was more cost effective in countries with widely scattered populations.\\n\\n\\n\\nIn Denmark by 1900, there were about 2500 windmills for mechanical loads such as pumps and mills, producing an estimated combined peak power of about 30 megawatts (MW). The largest machines were on  towers with four-bladed  diameter rotors. By 1908, there were 72 wind-driven electric generators operating in the United States from 5 kilowatts (kW) to 25\\xa0kW. Around the time of World War I, American windmill makers were producing 100,000 farm windmills each year, mostly for water-pumping.\\n\\nBy the 1930s, wind generators for electricity were common on farms, mostly in the United States where distribution systems had not yet been installed.\\n\\nA forerunner of modern horizontal-axis wind generators was in service at Yalta, USSR in 1931. This was a 100 kW generator on a  tower, connected to the local 6.3\\xa0kV distribution system. It was reported to have an annual capacity factor of 32 percent, not much different from current wind machines.\\n\\nIn the autumn of 1941, the first megawatt-class wind turbine was synchronized to a utility grid in Vermont. The Smith–Putnam wind turbine only ran for 1,100 hours before suffering a critical failure. The unit was not repaired, because of a shortage of materials during the war.\\n\\nThe first utility grid-connected wind turbine to operate in the UK was built by John Brown & Company in 1951 in the Orkney Islands.\\n\\nDespite these diverse developments, developments in fossil fuel systems almost entirely eliminated any wind turbine systems larger than supermicro size.  In the early 1970s, however, anti-nuclear protests in Denmark spurred artisan mechanics to develop microturbines of 22 kW.  Organizing owners into associations and co-operatives led to the lobbying of the government and utilities and provided incentives for larger turbines throughout the 1980s and later.  Local activists in Germany, nascent turbine manufacturers in Spain, and large investors in the United States in the early 1990s then lobbied for policies that stimulated the industry in those countries.\\n\\nIt has been argued that expanding use of wind power will lead to increasing geopolitical competition over critical materials for wind turbines such as rare earth elements neodymium, praseodymium, and dysprosium. However, this perspective has been criticised for failing to recognise that most wind turbines do not use permanent magnets and for underestimating the power of economic incentives for expanded production of these minerals. \\n\\n')]"
      ]
     },
     "execution_count": 10,
     "metadata": {},
     "output_type": "execute_result"
    }
   ],
   "source": [
    "text_diff(prelast_revision, last_revision)"
   ]
  },
  {
   "cell_type": "code",
   "execution_count": 11,
   "metadata": {},
   "outputs": [
    {
     "data": {
      "text/plain": [
       "'/* Non-blade materials */C/E: \"an greater\" => \"a greater\"'"
      ]
     },
     "execution_count": 11,
     "metadata": {},
     "output_type": "execute_result"
    }
   ],
   "source": [
    "last_revision.comment"
   ]
  },
  {
   "cell_type": "code",
   "execution_count": null,
   "metadata": {},
   "outputs": [],
   "source": []
  }
 ],
 "metadata": {
  "kernelspec": {
   "display_name": "sh_env",
   "language": "python",
   "name": "sh_env"
  },
  "language_info": {
   "codemirror_mode": {
    "name": "ipython",
    "version": 3
   },
   "file_extension": ".py",
   "mimetype": "text/x-python",
   "name": "python",
   "nbconvert_exporter": "python",
   "pygments_lexer": "ipython3",
   "version": "3.6.9"
  }
 },
 "nbformat": 4,
 "nbformat_minor": 2
}
