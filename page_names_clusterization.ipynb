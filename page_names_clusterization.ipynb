{
 "cells": [
  {
   "cell_type": "markdown",
   "metadata": {},
   "source": [
    "Смотрим на ревизии подряд. Смотрим только добавленные документы"
   ]
  },
  {
   "cell_type": "code",
   "execution_count": 1,
   "metadata": {},
   "outputs": [
    {
     "name": "stderr",
     "output_type": "stream",
     "text": [
      "/home/ubuntu/anaconda3/lib/python3.7/site-packages/requests/__init__.py:91: RequestsDependencyWarning: urllib3 (1.26.12) or chardet (4.0.0) doesn't match a supported version!\n",
      "  RequestsDependencyWarning)\n"
     ]
    }
   ],
   "source": [
    "from wikiparser_utils import WikiXMLDump, WikiPage\n",
    "import os\n",
    "import nltk\n",
    "import json\n",
    "import numpy as np\n",
    "from tqdm.notebook import tqdm\n",
    "from difflib import Differ \n",
    "from utils.difflibparser import DifflibParser, DiffCode\n",
    "\n",
    "import requests\n",
    "from selenium import webdriver\n",
    "from selenium.webdriver.common.by import By\n",
    "from bs4 import BeautifulSoup\n",
    "from io import StringIO, BytesIO\n",
    "from PyPDF2 import PdfReader, PdfFileReader\n",
    "import urllib3\n",
    "import html2text\n",
    "import os\n",
    "import time\n",
    "from os import listdir\n",
    "from os.path import isfile, join"
   ]
  },
  {
   "cell_type": "code",
   "execution_count": 2,
   "metadata": {},
   "outputs": [],
   "source": [
    "from selenium.webdriver.chrome.options import Options\n",
    "from urllib3.util import Timeout\n",
    "timeout = Timeout(total=60.0)\n",
    "http_urllib = urllib3.PoolManager(timeout=timeout)\n",
    "options = Options()\n",
    "options.headless = True"
   ]
  },
  {
   "cell_type": "code",
   "execution_count": 3,
   "metadata": {},
   "outputs": [],
   "source": [
    "dump = WikiXMLDump('history.xml')"
   ]
  },
  {
   "cell_type": "code",
   "execution_count": 4,
   "metadata": {},
   "outputs": [],
   "source": [
    "DOCS_DIR = 'data/documents'\n",
    "DOCS_MAPPER_DIR = 'data/documents_mapper'\n",
    "\n",
    "if not os.path.exists(DOCS_MAPPER_DIR):\n",
    "    os.makedirs(DOCS_MAPPER_DIR)\n",
    "    \n",
    "if not os.path.exists(DOCS_DIR):\n",
    "    os.makedirs(DOCS_DIR)\n",
    "    "
   ]
  },
  {
   "cell_type": "code",
   "execution_count": 5,
   "metadata": {},
   "outputs": [
    {
     "data": {
      "text/plain": [
       "(['01JJC_2934682',\n",
       "  '10 OClock News_2934804',\n",
       "  '125 BC_2934966',\n",
       "  '15020421743_2935130',\n",
       "  '151199192110_2935750'],\n",
       " ['01JJC', '10 OClock News', '125 BC', '15020421743', '151199192110'])"
      ]
     },
     "execution_count": 5,
     "metadata": {},
     "output_type": "execute_result"
    }
   ],
   "source": [
    "dirs = sorted(os.listdir('data/pages'))\n",
    "page_names = list(map(lambda x: '_'.join(x.split('_')[:-1]), dirs))\n",
    "dirs[:5], page_names[:5]"
   ]
  },
  {
   "cell_type": "code",
   "execution_count": 6,
   "metadata": {},
   "outputs": [
    {
     "name": "stdout",
     "output_type": "stream",
     "text": [
      "[('of', 57), ('for', 37), ('articles', 27), ('the', 23), ('in', 17), ('and', 17), ('district', 15), ('boeing', 12), ('list', 11), ('de', 9), ('railway', 8), ('station', 8), ('new', 7), ('burnham', 7), ('river', 7), ('beaked', 6), ('whale', 6), ('grocers', 6), ('school', 6), ('austria', 6)]\n"
     ]
    }
   ],
   "source": [
    "from collections import Counter\n",
    "popular_words = Counter()\n",
    "for p_name in page_names:\n",
    "    toks = list(map(lambda x: x.lower(), p_name.split()))\n",
    "    popular_words.update(toks)\n",
    "print(popular_words.most_common(20))"
   ]
  },
  {
   "cell_type": "code",
   "execution_count": 7,
   "metadata": {},
   "outputs": [],
   "source": [
    "# попробуем разбить названия стариц на кластера\n",
    "from gensim.models.word2vec import Word2Vec\n",
    "import gensim.downloader as api"
   ]
  },
  {
   "cell_type": "code",
   "execution_count": 8,
   "metadata": {},
   "outputs": [
    {
     "name": "stdout",
     "output_type": "stream",
     "text": [
      "/home/ubuntu/gensim-data/glove-wiki-gigaword-50/glove-wiki-gigaword-50.gz\n"
     ]
    }
   ],
   "source": [
    "print(api.load('glove-wiki-gigaword-50', return_path=True))"
   ]
  },
  {
   "cell_type": "code",
   "execution_count": 9,
   "metadata": {},
   "outputs": [
    {
     "data": {
      "text/plain": [
       "[('plastic', 0.7942506074905396),\n",
       " ('metal', 0.770871639251709),\n",
       " ('walls', 0.7700635194778442),\n",
       " ('marble', 0.7638523578643799),\n",
       " ('wood', 0.7624281048774719),\n",
       " ('ceramic', 0.7602593302726746),\n",
       " ('pieces', 0.7589111328125),\n",
       " ('stained', 0.7528817653656006),\n",
       " ('tile', 0.748193621635437),\n",
       " ('furniture', 0.7463858723640442)]"
      ]
     },
     "execution_count": 9,
     "metadata": {},
     "output_type": "execute_result"
    }
   ],
   "source": [
    "model = api.load(\"glove-wiki-gigaword-50\")\n",
    "model.most_similar(\"glass\")"
   ]
  },
  {
   "cell_type": "code",
   "execution_count": 10,
   "metadata": {},
   "outputs": [
    {
     "data": {
      "text/plain": [
       "(50,)"
      ]
     },
     "execution_count": 10,
     "metadata": {},
     "output_type": "execute_result"
    }
   ],
   "source": [
    "model['glass'].shape"
   ]
  },
  {
   "cell_type": "code",
   "execution_count": 11,
   "metadata": {},
   "outputs": [],
   "source": [
    "pn2vector = {}\n",
    "for pn in page_names:\n",
    "    pn_toks = pn.split()\n",
    "    vec, counter = 0, 0\n",
    "    for pn_tok in pn_toks:\n",
    "        try:\n",
    "            vec += model[pn_tok]\n",
    "            counter += 1\n",
    "        except:\n",
    "            continue\n",
    "    if counter > 0:\n",
    "        final_vec = vec / counter\n",
    "        pn2vector[pn] = final_vec\n",
    "        "
   ]
  },
  {
   "cell_type": "code",
   "execution_count": 12,
   "metadata": {},
   "outputs": [
    {
     "name": "stdout",
     "output_type": "stream",
     "text": [
      "[t-SNE] Computing 91 nearest neighbors...\n",
      "[t-SNE] Indexed 326 samples in 0.001s...\n",
      "[t-SNE] Computed neighbors for 326 samples in 0.015s...\n",
      "[t-SNE] Computed conditional probabilities for sample 326 / 326\n",
      "[t-SNE] Mean sigma: 1.329954\n",
      "[t-SNE] KL divergence after 250 iterations with early exaggeration: 76.441727\n",
      "[t-SNE] KL divergence after 300 iterations: 1.315884\n"
     ]
    }
   ],
   "source": [
    "from sklearn.manifold import TSNE\n",
    "from sklearn.cluster import KMeans\n",
    "\n",
    "%matplotlib inline\n",
    "import matplotlib.pyplot as plt\n",
    "from mpl_toolkits.mplot3d import Axes3D\n",
    "\n",
    "import seaborn as sns\n",
    "\n",
    "pns = np.array(list(pn2vector))\n",
    "vecs = list(pn2vector.values())\n",
    "\n",
    "kmeans = KMeans(n_clusters=10, random_state=0).fit(vecs)\n",
    "colors = kmeans.labels_\n",
    "cent = kmeans.cluster_centers_\n",
    "\n",
    "\n",
    "tsne = TSNE(n_components=2, verbose=1, n_iter=300)\n",
    "tsne_results = tsne.fit_transform(vecs + list(cent))\n",
    "tsne_results, tsne_centers = tsne_results[:-len(cent)], tsne_results[-len(cent):]"
   ]
  },
  {
   "cell_type": "code",
   "execution_count": 13,
   "metadata": {},
   "outputs": [],
   "source": [
    "tsne_results = np.clip(tsne_results, -30, 30)\n",
    "tsne_centers = np.clip(tsne_centers, -30, 30)"
   ]
  },
  {
   "cell_type": "code",
   "execution_count": 14,
   "metadata": {},
   "outputs": [
    {
     "data": {
      "text/plain": [
       "array([[-12.370581 ,  12.354931 ],\n",
       "       [-27.100317 , -30.       ],\n",
       "       [ -0.9733109,  -5.049675 ],\n",
       "       [ -8.964512 ,  -5.372946 ],\n",
       "       [  4.7590003,  -9.084736 ],\n",
       "       [ -0.5360183, -17.907578 ],\n",
       "       [ -0.5112891, -14.282129 ],\n",
       "       [  4.6032033,  -2.8537023],\n",
       "       [ 14.759792 ,  10.159762 ],\n",
       "       [  2.680347 ,   5.212805 ]], dtype=float32)"
      ]
     },
     "execution_count": 14,
     "metadata": {},
     "output_type": "execute_result"
    }
   ],
   "source": [
    "tsne_centers"
   ]
  },
  {
   "cell_type": "code",
   "execution_count": 15,
   "metadata": {
    "scrolled": false
   },
   "outputs": [
    {
     "data": {
      "image/png": "[encoded data removed]",
      "text/plain": [
       "<Figure size 1152x720 with 1 Axes>"
      ]
     },
     "metadata": {},
     "output_type": "display_data"
    }
   ],
   "source": [
    "plt.style.use('dark_background')\n",
    "plt.figure(figsize=(16, 10))\n",
    "plt.scatter(\n",
    "    x=tsne_results[:, 0], \n",
    "    y=tsne_results[:, 1], \n",
    "    c=colors, \n",
    ")\n",
    "plt.scatter(\n",
    "    x=tsne_centers[:, 0], \n",
    "    y=tsne_centers[:, 1], \n",
    "    c='white',\n",
    "    s=300\n",
    ")\n",
    "\n",
    "for i, txt in enumerate(tsne_centers):\n",
    "    plt.annotate(str(i), (tsne_centers[i, 0], tsne_centers[i, 1]), c='black')\n",
    "\n",
    "plt.xlim(-30, 30)\n",
    "plt.ylim(-30, 30)\n",
    "plt.xlabel('tsne-one')\n",
    "plt.ylabel('tsne-two')\n",
    "plt.show()"
   ]
  },
  {
   "cell_type": "markdown",
   "metadata": {},
   "source": [
    "Самый осознанный кластер = 0. Посмотрим что объединяет названия старниц в нем"
   ]
  },
  {
   "cell_type": "code",
   "execution_count": 16,
   "metadata": {},
   "outputs": [
    {
     "data": {
      "text/plain": [
       "array(['Assurances Generales de France', 'Hugues de SaintVictor',\n",
       "       'Jacobus de Voragine', 'Jamil el Banna',\n",
       "       'Jardim Botânico Rio de Janeiro',\n",
       "       'JeanLouis Anne Madelain Cardinal Lefebvre de Cheverus',\n",
       "       'Paso de los Libres', 'Real Club Celta de Vigo',\n",
       "       'Rodrigo de Freitas Lagoon', 'Velours du Kasaï'], dtype='<U85')"
      ]
     },
     "execution_count": 16,
     "metadata": {},
     "output_type": "execute_result"
    }
   ],
   "source": [
    "pns[colors == 0] # кластер с именами собственными"
   ]
  },
  {
   "cell_type": "code",
   "execution_count": 18,
   "metadata": {},
   "outputs": [
    {
     "data": {
      "text/plain": [
       "array(['2003 Liberation of Iraq', 'Affiliated Foods Stores of Amarillo',\n",
       "       'Articles for deletionSons of Alexander',\n",
       "       'Associated Grocers of Maine', 'Associated Grocers of New England',\n",
       "       'Battle of Frigidus', 'Battle of Gvozd Mountain',\n",
       "       'Blinx 2 Masters of Time and Space',\n",
       "       'Blue Stars Drum and Bugle Corps', 'Bob and Larry'], dtype='<U85')"
      ]
     },
     "execution_count": 18,
     "metadata": {},
     "output_type": "execute_result"
    }
   ],
   "source": [
    "pns[colors == 9][:10] # ??"
   ]
  },
  {
   "cell_type": "code",
   "execution_count": 19,
   "metadata": {},
   "outputs": [
    {
     "data": {
      "text/plain": [
       "array(['Dakshin Dinajpur district', 'Jalpaiguri district',\n",
       "       'Pendent jurisdiction', 'Sessions court',\n",
       "       'Uttar Dinajpur district'], dtype='<U85')"
      ]
     },
     "execution_count": 19,
     "metadata": {},
     "output_type": "execute_result"
    }
   ],
   "source": [
    "pns[colors == 8][:10] # районы и юрисдикции"
   ]
  },
  {
   "cell_type": "code",
   "execution_count": null,
   "metadata": {},
   "outputs": [],
   "source": []
  }
 ],
 "metadata": {
  "kernelspec": {
   "display_name": "Python 3",
   "language": "python",
   "name": "python3"
  },
  "language_info": {
   "codemirror_mode": {
    "name": "ipython",
    "version": 3
   },
   "file_extension": ".py",
   "mimetype": "text/x-python",
   "name": "python",
   "nbconvert_exporter": "python",
   "pygments_lexer": "ipython3",
   "version": "3.7.7"
  }
 },
 "nbformat": 4,
 "nbformat_minor": 2
}
